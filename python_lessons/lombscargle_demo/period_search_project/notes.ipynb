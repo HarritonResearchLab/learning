{
 "cells": [
  {
   "cell_type": "markdown",
   "metadata": {},
   "source": [
    "# Period Detective Exercise\n",
    "\n",
    "## Overview\n",
    "* Once you download and extract the .zip file ```light_curves.zip```, you will find a file inside it called ```key.csv``` which importantly contains a column of stellar identifiers for the 323 stars that have data in the ```light_curves/light_curves``` directory you will be working with in this exercise. \n",
    "* Your goal is to iterate through each of the object's ```_r.csv``` files (e.g. the file for the star ```2MASS_J20470481+4349114``` would be ```2MASS_J20470481+4349114_r.csv```), run the Lomb-Scargle periodogram on that light curve, return a list of stars whose lightcurves are periodic (for now we will assume stars whose peak power is more than 0.5 to have significant periods), and then make phase-folded light curve plots for those stars, as well as making a histogram displaying the distribution of periods among those stars with significant periods. \n",
    "* As a first step, I talk a glance through this Astropy documentation example which explores the Lomb-Scargle Algorithm with simulated data: [link](https://docs.astropy.org/en/stable/timeseries/lombscargle.html). \n",
    "* Once you're done, please make a new folder in the ```./solutions``` directory of this project and put your code and plots in it so we can practice using GitHub. \n",
    "\n",
    "## Code Hints\n",
    "* Run the Lomb-Scargle Algorithm like this (after extracting the ```mjd``` and ```mag``` arrays from the .csv file and importing ```LombScargle``` with ```from astropy.timeseries import LombScargle```): \n",
    "```python\n",
    "ls = LombScargle(mjd, mag)\n",
    "frequencies, powers = ls.autopower(minimum_frequency=0.05, maximum_frequency=0.5)\n",
    "periods = 1/frequencies\n",
    "```\n",
    "* Setting ```minimum_frequency=0.05``` and ```maximum_frequency=0.5``` will restrict your search space between periods of two and fifty days (as period = 1/frequency, the maximum frequency $0.5$ is the shortest period $\\frac{1}{0.5}=2$). \n",
    "* You want to focus on the period with the highest power for each light curve, and (as mentioned), for the purposes of this excercise only consider a period with power $>0.5$ to be significant. \n",
    "* Note that since lower values are brighter in the magnitude system, you'll want to invert the y-axis of your light curve plot. \n",
    "* You can save plots in matplotlib with ```plt.savefig()```\n",
    "\n",
    "\n",
    "## Example Outputs\n",
    "* Phase-folded light curve:  \n",
    "![]()\n",
    "\n",
    "* Periods distribution histogram:  \n",
    "![]()"
   ]
  },
  {
   "cell_type": "code",
   "execution_count": 28,
   "metadata": {},
   "outputs": [],
   "source": [
    "import pandas as pd\n",
    "import numpy as np\n",
    "import matplotlib.pyplot as plt\n",
    "from astropy.timeseries import LombScargle\n",
    "\n",
    "root_dir = r\"C:/Users/Research/Downloads/light_curves\"\n",
    "ids = np.array(pd.read_csv(root_dir+'/key.csv')['ID'])"
   ]
  },
  {
   "cell_type": "markdown",
   "metadata": {},
   "source": [
    "```{toggle}\n",
    "periodic_ids = np.array([])\n",
    "best_periods = np.array([])\n",
    "best_powers = np.array([])\n",
    "\n",
    "for id in ids: \n",
    "    data_df = pd.read_csv(root_dir+r'\\\\light_curves\\\\'+id+'_r.csv')\n",
    "    mjds = np.array(data_df['mjd'])\n",
    "    mags = np.array(data_df['mag'])\n",
    "\n",
    "    ls = LombScargle(mjds, mags)\n",
    "    frequencies, powers = ls.autopower(minimum_frequency=0.05, maximum_frequency=0.5)\n",
    "    periods = 1/frequencies\n",
    "\n",
    "    best_period, best_power = periods[np.argmax(powers)], np.max(powers)\n",
    "\n",
    "    if best_power > 0.5: \n",
    "        periodic_ids = np.append(periodic_ids, id)\n",
    "        best_periods = np.append(best_periods, best_period)\n",
    "        best_powers = np.append(best_powers, best_power)\n",
    "\n",
    "        phased_dates = np.mod(mjds, best_period)/best_period\n",
    "\n",
    "        plt.rcParams['font.family']='serif'\n",
    "        plt.style.use('ggplot')\n",
    "        plt.scatter(phased_dates, mags)\n",
    "        plt.xlabel('Phase (P='+str(round(best_period, 3))+')')\n",
    "        plt.ylabel('mag')\n",
    "        plt.gca().invert_yaxis()\n",
    "        plt.show()\n",
    "\n",
    "plt.rcParams['font.family']='serif'\n",
    "plt.style.use('ggplot')\n",
    "plt.xlabel('Period')\n",
    "plt.ylabel('Frequency')\n",
    "plt.title('Distribution of Significant Periods')\n",
    "plt.hist(best_periods)\n",
    "plt.savefig('period_dist.png')\n",
    "```"
   ]
  }
 ],
 "metadata": {
  "interpreter": {
   "hash": "d3c0f98bc337faacb3dc92d86fb3c3ff5c297fcab3c4973bdf073a6202ea54c1"
  },
  "kernelspec": {
   "display_name": "Python 3.8.5 64-bit",
   "name": "python3"
  },
  "language_info": {
   "codemirror_mode": {
    "name": "ipython",
    "version": 3
   },
   "file_extension": ".py",
   "mimetype": "text/x-python",
   "name": "python",
   "nbconvert_exporter": "python",
   "pygments_lexer": "ipython3",
   "version": "3.8.5"
  },
  "orig_nbformat": 4
 },
 "nbformat": 4,
 "nbformat_minor": 2
}
