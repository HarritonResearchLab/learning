{
 "cells": [
  {
   "cell_type": "markdown",
   "metadata": {},
   "source": [
    "# Period Detective Exercise\n",
    "\n",
    "## Overview\n",
    "* Once you download and extract the .zip file ```light_curves.zip```, you will find a file inside it called ```key.csv``` which importantly contains a column of stellar identifiers for the 323 stars that have data in the ```light_curves/light_curves``` directory you will be working with in this exercise. \n",
    "* Your goal is to iterate through each of the object's ```_r.csv``` files (e.g. the file for the star ```2MASS_J20470481+4349114``` would be ```2MASS_J20470481+4349114_r.csv```), run the Lomb-Scargle periodogram on that light curve, return a list of stars whose lightcurves are periodic (for now we will assume stars whose peak power is more than 0.5 to have significant periods), and then make phase-folded light curve plots for those stars, as well as making a histogram displaying the distribution of periods among those stars with significant periods. \n",
    "\n",
    "## Code Hints\n",
    "* Run the Lomb-Scargle Algorithm like this: \n",
    "\n",
    "<pr><code>\n",
    "ls = LombScargle(mjds, mags)\n",
    "frequencies, powers = ls.autopower(minimum_frequency=0.05, maximum_frequency=0.5)\n",
    "periods = 1/frequencies\n",
    "</code></pr>"
   ]
  },
  {
   "cell_type": "code",
   "execution_count": 28,
   "metadata": {},
   "outputs": [],
   "source": [
    "import pandas as pd\n",
    "import numpy as np\n",
    "import matplotlib.pyplot as plt\n",
    "from astropy.timeseries import LombScargle\n",
    "\n",
    "root_dir = r\"C:/Users/Research/Downloads/light_curves\"\n",
    "ids = np.array(pd.read_csv(root_dir+'/key.csv')['ID'])"
   ]
  },
  {
   "cell_type": "code",
   "execution_count": 19,
   "metadata": {},
   "outputs": [],
   "source": [
    "periodic_ids = np.array([])\n",
    "best_periods = np.array([])\n",
    "best_powers = np.array([])\n",
    "\n",
    "for id in ids: \n",
    "    data_df = pd.read_csv(root_dir+r'\\\\light_curves\\\\'+id+'_r.csv')\n",
    "    mjds = np.array(data_df['mjd'])\n",
    "    mags = np.array(data_df['mag'])\n",
    "\n",
    "    ls = LombScargle(mjds, mags)\n",
    "    frequencies, powers = ls.autopower(minimum_frequency=0.05, maximum_frequency=0.5)\n",
    "    periods = 1/frequencies\n",
    "\n",
    "    best_period, best_power = periods[np.argmax(powers)], np.max(powers)\n",
    "\n",
    "    if best_power > 0.5: \n",
    "        periodic_ids = np.append(periodic_ids, id)\n",
    "        best_periods = np.append(best_periods, best_period)\n",
    "        best_powers = np.append(best_powers, best_power)\n"
   ]
  },
  {
   "cell_type": "markdown",
   "metadata": {},
   "source": [
    "## Notes\n",
    "* If you want to phase a light curve to a period ```T``` and plot it, use this formula: ```phased_dates = np.mod(dates, T)/T```. Then to plot this, just scatter ```phased_dates``` as ```x``` and ```mags``` as ```y```. "
   ]
  },
  {
   "cell_type": "code",
   "execution_count": 20,
   "metadata": {},
   "outputs": [
    {
     "data": {
      "text/plain": [
       "(array([12.,  6.,  4., 11.,  4.,  1.,  2.,  1.,  0.,  1.]),\n",
       " array([ 2.09163774,  3.77942606,  5.46721438,  7.1550027 ,  8.84279101,\n",
       "        10.53057933, 12.21836765, 13.90615597, 15.59394429, 17.28173261,\n",
       "        18.96952093]),\n",
       " <BarContainer object of 10 artists>)"
      ]
     },
     "execution_count": 20,
     "metadata": {},
     "output_type": "execute_result"
    },
    {
     "data": {
      "image/png": "[encoded data removed]",
      "text/plain": [
       "<Figure size 432x288 with 1 Axes>"
      ]
     },
     "metadata": {
      "needs_background": "light"
     },
     "output_type": "display_data"
    }
   ],
   "source": [
    "plt.hist(best_periods)"
   ]
  }
 ],
 "metadata": {
  "interpreter": {
   "hash": "d3c0f98bc337faacb3dc92d86fb3c3ff5c297fcab3c4973bdf073a6202ea54c1"
  },
  "kernelspec": {
   "display_name": "Python 3.8.5 64-bit",
   "name": "python3"
  },
  "language_info": {
   "codemirror_mode": {
    "name": "ipython",
    "version": 3
   },
   "file_extension": ".py",
   "mimetype": "text/x-python",
   "name": "python",
   "nbconvert_exporter": "python",
   "pygments_lexer": "ipython3",
   "version": "3.8.5"
  },
  "orig_nbformat": 4
 },
 "nbformat": 4,
 "nbformat_minor": 2
}
