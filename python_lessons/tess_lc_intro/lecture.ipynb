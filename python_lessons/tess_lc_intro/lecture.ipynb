{
 "cells": [
  {
   "cell_type": "code",
   "execution_count": 15,
   "source": [
    "import numpy as np \r\n",
    "import matplotlib.pyplot as plt\r\n",
    "from astropy.timeseries import LombScargle"
   ],
   "outputs": [],
   "metadata": {}
  },
  {
   "cell_type": "code",
   "execution_count": null,
   "source": [
    "# generate random data \r\n",
    "\r\n",
    "dates = 100 * np.random.random(100)\r\n",
    "fluxes = np.sin(2 * np.pi * dates) + 0.1 * np.random.standard_normal(100)"
   ],
   "outputs": [],
   "metadata": {}
  },
  {
   "cell_type": "code",
   "execution_count": null,
   "source": [
    "#frequencies, powers = LombScargle(dates, fluxes).autopower(minimum_frequency=0.25, maximum_frequency=5)\r\n",
    "# phased_dates = np.mod(dates, period)/period"
   ],
   "outputs": [],
   "metadata": {}
  }
 ],
 "metadata": {
  "orig_nbformat": 4,
  "language_info": {
   "name": "python",
   "version": "3.8.5",
   "mimetype": "text/x-python",
   "codemirror_mode": {
    "name": "ipython",
    "version": 3
   },
   "pygments_lexer": "ipython3",
   "nbconvert_exporter": "python",
   "file_extension": ".py"
  },
  "kernelspec": {
   "name": "python3",
   "display_name": "Python 3.8.5 64-bit"
  },
  "interpreter": {
   "hash": "d3c0f98bc337faacb3dc92d86fb3c3ff5c297fcab3c4973bdf073a6202ea54c1"
  }
 },
 "nbformat": 4,
 "nbformat_minor": 2
}