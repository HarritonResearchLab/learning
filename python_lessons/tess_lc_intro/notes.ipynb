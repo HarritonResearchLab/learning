{
 "cells": [
  {
   "cell_type": "code",
   "execution_count": 15,
   "source": [
    "import numpy as np \r\n",
    "import pandas as pd\r\n",
    "import matplotlib.pyplot as plt\r\n",
    "from astropy.timeseries import LombScargle "
   ],
   "outputs": [],
   "metadata": {}
  },
  {
   "cell_type": "code",
   "execution_count": 21,
   "source": [
    "from astropy.utils.data import get_pkg_data_filename\r\n",
    "filename = get_pkg_data_filename('timeseries/kplr010666592-2009131110544_slc.fits')  \r\n",
    "\r\n",
    "from astropy.timeseries import TimeSeries\r\n",
    "ts = TimeSeries.read(filename, format='kepler.fits')\r\n",
    "\r\n",
    "dates = np.array(ts.time.mjd)\r\n",
    "fluxes = np.array(ts['sap_flux'])\r\n",
    "\r\n",
    "\r\n",
    "print(dates, fluxes)\r\n",
    "\r\n",
    "frequencies, powers = LombScargle(dates, fluxes).autopower()\r\n",
    "\r\n",
    "\r\n",
    "best = np.argmax(powers)  \r\n",
    "period = 1/float(frequencies[best]) # because P = 1/f\r\n",
    "print(period)\r\n",
    "\r\n",
    "fig, axs = plt.subplots()\r\n",
    "\r\n",
    "plt.plot(1/frequencies, powers)\r\n",
    "\r\n",
    "\r\n",
    "\r\n",
    "\r\n"
   ],
   "outputs": [
    {
     "output_type": "stream",
     "name": "stdout",
     "text": [
      "[54953.0289391  54953.02962023 54953.03030145 ... 54962.7536398\n",
      " 54962.75432093 54962.75500215] [1027045.06 1027184.44 1027076.25 ... 1025451.56 1025468.5  1025930.9 ]\n",
      "97.26063052272364\n"
     ]
    },
    {
     "output_type": "execute_result",
     "data": {
      "text/plain": [
       "[<matplotlib.lines.Line2D at 0x25cbb83aa00>]"
      ]
     },
     "metadata": {},
     "execution_count": 21
    },
    {
     "output_type": "display_data",
     "data": {
      "image/png": "[encoded data removed]",
      "text/plain": [
       "<Figure size 432x288 with 1 Axes>"
      ]
     },
     "metadata": {
      "needs_background": "light"
     }
    }
   ],
   "metadata": {}
  }
 ],
 "metadata": {
  "orig_nbformat": 4,
  "language_info": {
   "name": "python",
   "version": "3.8.5",
   "mimetype": "text/x-python",
   "codemirror_mode": {
    "name": "ipython",
    "version": 3
   },
   "pygments_lexer": "ipython3",
   "nbconvert_exporter": "python",
   "file_extension": ".py"
  },
  "kernelspec": {
   "name": "python3",
   "display_name": "Python 3.8.5 64-bit"
  },
  "interpreter": {
   "hash": "d3c0f98bc337faacb3dc92d86fb3c3ff5c297fcab3c4973bdf073a6202ea54c1"
  }
 },
 "nbformat": 4,
 "nbformat_minor": 2
}